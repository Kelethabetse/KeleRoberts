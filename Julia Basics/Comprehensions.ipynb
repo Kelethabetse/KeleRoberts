{
 "cells": [
  {
   "cell_type": "markdown",
   "metadata": {},
   "source": [
    "# basic if, elseif & else statements"
   ]
  },
  {
   "cell_type": "markdown",
   "metadata": {},
   "source": [
    "Used mostly with Boolean operators, to check whether specific statements satisfy a specific condition (but can be used with other operators as well, for more information, check out the julia 1.9.2 documentation)."
   ]
  },
  {
   "cell_type": "markdown",
   "metadata": {},
   "source": [
    "Basic examples"
   ]
  },
  {
   "cell_type": "code",
   "execution_count": 114,
   "metadata": {},
   "outputs": [
    {
     "name": "stdout",
     "output_type": "stream",
     "text": [
      "10 is greater than 7"
     ]
    }
   ],
   "source": [
    "# Comparison\n",
    "\n",
    "x = 7\n",
    "y = 10\n",
    "\n",
    "if y > x\n",
    "    print(\"$y is greater than $x\")\n",
    "elseif y < x\n",
    "    print(\"$y is less than $x\")\n",
    "else\n",
    "    print(\"$y is equal to $x\")\n",
    "end"
   ]
  },
  {
   "cell_type": "code",
   "execution_count": 115,
   "metadata": {},
   "outputs": [
    {
     "name": "stdout",
     "output_type": "stream",
     "text": [
      "15 is a multiple of 5"
     ]
    }
   ],
   "source": [
    "# % is called the modulus, it is used to check for the remainder when you divide two numbers\n",
    "\n",
    "x = 5\n",
    "y = 15\n",
    "\n",
    "if y % x == 0\n",
    "    print(\"$y is a multiple of $x\")\n",
    "end"
   ]
  },
  {
   "cell_type": "markdown",
   "metadata": {},
   "source": [
    "The problem statements below are from the 2022 JuliaCon"
   ]
  },
  {
   "cell_type": "markdown",
   "metadata": {},
   "source": [
    "1. Check if a number is a multiple of 3, 5 or 7 (number = rand(1:100))"
   ]
  },
  {
   "cell_type": "code",
   "execution_count": 112,
   "metadata": {},
   "outputs": [
    {
     "name": "stdout",
     "output_type": "stream",
     "text": [
      "92 is not a multiple of 3\n",
      "92 is not a multiple of 5\n",
      "92 is not a multiple of 7\n"
     ]
    }
   ],
   "source": [
    "x = rand(1:100)\n",
    "\n",
    "y = [3, 5, 7]\n",
    "\n",
    "if x % y[1] == 0 \n",
    "    print(\"$x is a multiple of 3\",\"\\n\")\n",
    "else\n",
    "    print(\"$x is not a multiple of 3\",\"\\n\")\n",
    "end\n",
    "\n",
    "if x % y[2] == 0\n",
    "    print(\"$x is a multiple of 5\",\"\\n\")\n",
    "else\n",
    "    print(\"$x is not a multiple of 5\",\"\\n\")\n",
    "end\n",
    "\n",
    "if x % y[3] == 0\n",
    "    print(\"$x is a multiple of 7\",\"\\n\")\n",
    "else\n",
    "    print(\"$x is not a multiple of 7\",\"\\n\")\n",
    "end"
   ]
  },
  {
   "cell_type": "code",
   "execution_count": null,
   "metadata": {},
   "outputs": [],
   "source": [
    "OR ???"
   ]
  },
  {
   "cell_type": "code",
   "execution_count": 113,
   "metadata": {},
   "outputs": [
    {
     "name": "stdout",
     "output_type": "stream",
     "text": [
      "30 is a multiple of [3, 5, 7][1]\n",
      "30 is a multiple of [3, 5, 7][2]\n",
      "30 is not a multiple of [3, 5, 7][3]\n"
     ]
    }
   ],
   "source": [
    "'In the case that you have a very long list and you want to check whether a number whose value is unknown in that list satisfies the condition,\n",
    " let us say you want to check if an odd number at the 50th position of a list of odd numbers between 1 and a 100 is a multiple of whatever number\n",
    " the rand function will generate. What if in your print statement, you are able to just index into the 50th position of that list?'\n",
    "\n",
    "x = rand(1:100)\n",
    "\n",
    "y = [3, 5, 7]\n",
    "\n",
    "if x % y[1] == 0 \n",
    "    print(\"$x is a multiple of $y[1]\",\"\\n\")\n",
    "else\n",
    "    print(\"$x is not a multiple of $y[1]\",\"\\n\")\n",
    "end\n",
    "\n",
    "if x % y[2] == 0\n",
    "    print(\"$x is a multiple of $y[2]\",\"\\n\")\n",
    "else\n",
    "    print(\"$x is not a multiple of $y[2]\",\"\\n\")\n",
    "end\n",
    "\n",
    "if x % y[3] == 0\n",
    "    print(\"$x is a multiple of $y[3]\",\"\\n\")\n",
    "else\n",
    "    print(\"$x is not a multiple of $y[3]\",\"\\n\")\n",
    "end\n",
    "\n",
    "# DID NOT WORK!"
   ]
  },
  {
   "cell_type": "markdown",
   "metadata": {},
   "source": [
    "2. Print which quadrant in the cartesian plane a point is located (x, y = rand(-1.0:0.1:1.0))"
   ]
  },
  {
   "cell_type": "code",
   "execution_count": 172,
   "metadata": {},
   "outputs": [
    {
     "name": "stdout",
     "output_type": "stream",
     "text": [
      "0.8\n",
      "-0.8\n",
      "0.8 and -0.8 are in the 4th quadrant"
     ]
    }
   ],
   "source": [
    "x, y = rand(-1.0:0.1:1.0, 2)\n",
    "\n",
    "print(x,\"\\n\", y,\"\\n\")\n",
    "\n",
    "if 0 <= x <= 1 && 0 <= y <= 1\n",
    "    print(\"$x and $y are in the 1st quadrant\")\n",
    "elseif 0 >= x >= -1 && 0 >= y >= -1\n",
    "    print(\"$x and $y are in the 3rd quadrant\")\n",
    "elseif 0 >= x >= -1 && 0 <= y <= 1\n",
    "    print(\"$x and $y are in the 2nd quadrant\")\n",
    "elseif 0 <= x <= 1 && 0 >= y >= -1\n",
    "    print(\"$x and $y are in the 4th quadrant\")\n",
    "end\n"
   ]
  }
 ],
 "metadata": {
  "kernelspec": {
   "display_name": "Julia 1.9.2",
   "language": "julia",
   "name": "julia-1.9"
  },
  "language_info": {
   "file_extension": ".jl",
   "mimetype": "application/julia",
   "name": "julia",
   "version": "1.9.2"
  },
  "orig_nbformat": 4
 },
 "nbformat": 4,
 "nbformat_minor": 2
}
